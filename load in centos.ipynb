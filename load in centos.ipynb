{
 "cells": [
  {
   "cell_type": "code",
   "execution_count": 1,
   "id": "09f79820",
   "metadata": {},
   "outputs": [],
   "source": [
    "from flask import Flask, request, jsonify\n",
    "import pickle\n",
    "from sentence_transformers import SentenceTransformer"
   ]
  },
  {
   "cell_type": "code",
   "execution_count": 2,
   "id": "089bea78",
   "metadata": {},
   "outputs": [],
   "source": [
    "app = Flask(__name__)\n"
   ]
  },
  {
   "cell_type": "code",
   "execution_count": 3,
   "id": "3849ef24",
   "metadata": {},
   "outputs": [],
   "source": [
    "# Load the saved model\n",
    "with open('url_check_model.pkl', 'rb') as f:\n",
    "    model = pickle.load(f)\n"
   ]
  },
  {
   "cell_type": "code",
   "execution_count": 4,
   "id": "7243468e",
   "metadata": {},
   "outputs": [],
   "source": [
    "# Load the SentenceTransformer model\n",
    "SentenceTransformer_model = SentenceTransformer('paraphrase-MiniLM-L6-v2')"
   ]
  },
  {
   "cell_type": "code",
   "execution_count": 13,
   "id": "c54afd7b",
   "metadata": {},
   "outputs": [],
   "source": [
    "# Define the URL check endpoint\n",
    "#@app.route('/api/url_check', methods=['POST'])\n",
    "def url_check(url):\n",
    "    # Get the URL from the request\n",
    "    url = request.json['url']\n",
    "\n",
    "    # Embed the URL using the SentenceTransformer model\n",
    "    embedding = SentenceTransformer_model.encode(url)\n",
    "    embedding = embedding.reshape(1, -1)\n",
    "\n",
    "    # Predict the URL using the loaded model\n",
    "    prediction = model.predict(embedding)\n",
    "\n",
    "    # Map the prediction to the output format\n",
    "    output = {'result': 'good' if prediction[0] == 1 else 'bad'}\n",
    "    \n",
    "    #print(\"Prediction for new URL: \", output)\n",
    "\n",
    "    # Return the output as a JSON response\n",
    "    return jsonify(output)"
   ]
  },
  {
   "cell_type": "code",
   "execution_count": null,
   "id": "eafa9daf",
   "metadata": {},
   "outputs": [],
   "source": [
    "\n",
    "if __name__ == '__main__':\n",
    "    app.run()"
   ]
  },
  {
   "cell_type": "code",
   "execution_count": null,
   "id": "83263c7d",
   "metadata": {},
   "outputs": [],
   "source": []
  },
  {
   "cell_type": "code",
   "execution_count": null,
   "id": "3ae9891c",
   "metadata": {},
   "outputs": [],
   "source": []
  },
  {
   "cell_type": "code",
   "execution_count": null,
   "id": "006d624e",
   "metadata": {},
   "outputs": [],
   "source": []
  }
 ],
 "metadata": {
  "kernelspec": {
   "display_name": "Python 3 (ipykernel)",
   "language": "python",
   "name": "python3"
  },
  "language_info": {
   "codemirror_mode": {
    "name": "ipython",
    "version": 3
   },
   "file_extension": ".py",
   "mimetype": "text/x-python",
   "name": "python",
   "nbconvert_exporter": "python",
   "pygments_lexer": "ipython3",
   "version": "3.9.7"
  }
 },
 "nbformat": 4,
 "nbformat_minor": 5
}
